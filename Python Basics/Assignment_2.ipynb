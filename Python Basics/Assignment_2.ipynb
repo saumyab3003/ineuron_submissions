{
 "cells": [
  {
   "cell_type": "markdown",
   "id": "c081a752",
   "metadata": {},
   "source": [
    "## Assignment_2"
   ]
  },
  {
   "cell_type": "markdown",
   "id": "aabca279",
   "metadata": {},
   "source": [
    "### 1.What are the two values of the Boolean data type? How do you write them?<br><br>\n",
    "**Ans:** True and False are two values of the boolen data types. "
   ]
  },
  {
   "cell_type": "code",
   "execution_count": 1,
   "id": "43eefacc",
   "metadata": {},
   "outputs": [
    {
     "name": "stdout",
     "output_type": "stream",
     "text": [
      "True <class 'bool'>\n",
      "False <class 'bool'>\n"
     ]
    }
   ],
   "source": [
    "a=True\n",
    "b=False\n",
    "print(a,type(a))\n",
    "print(b,type(b))"
   ]
  },
  {
   "cell_type": "markdown",
   "id": "141251fc",
   "metadata": {},
   "source": [
    "### 2. What are the three different types of Boolean operators?<br><br>\n",
    "**Ans:** `or`, `and`, `not` are 3 Boolean operators"
   ]
  },
  {
   "cell_type": "code",
   "execution_count": 8,
   "id": "8cbc618c",
   "metadata": {},
   "outputs": [
    {
     "name": "stdout",
     "output_type": "stream",
     "text": [
      "True\n",
      "True\n",
      "False\n"
     ]
    }
   ],
   "source": [
    "a=10\n",
    "b=20\n",
    "print(a>5 or b>10) \n",
    "print(a>=10 and b>=20) \n",
    "print(not(a>5)) "
   ]
  },
  {
   "cell_type": "markdown",
   "id": "16342d80",
   "metadata": {},
   "source": [
    "### 3. Make a list of each Boolean operator's truth tables (i.e. every possible combination of Boolean values for the operator and what it evaluate ).\n",
    "<br><br>\n",
    "**Ans:** The Truth tables for the boolean tables are as follows:  \n",
    "* **Truth Table for `and` operaotor**  \n",
    "    _True and True is True   \n",
    "    True and False is False  \n",
    "    False and True is False  \n",
    "    False and False is False_\n",
    "    \n",
    "    \n",
    "* **Truth Table for `or` operaotor**  \n",
    "    _True and True is True   \n",
    "    True and False is True  \n",
    "    False and True is True  \n",
    "    False and False is False_\n",
    "    \n",
    "    \n",
    "* **Truth Table for `not` operaotor**        \n",
    "    _True not is False\n",
    "    False not is True_ "
   ]
  },
  {
   "cell_type": "markdown",
   "id": "836e4c46",
   "metadata": {},
   "source": [
    "### 4. What are the values of the following expressions?\n",
    "(5 > 4) and (3 == 5)\n",
    "not (5 > 4)\n",
    "(5 > 4) or (3 == 5)\n",
    "not ((5 > 4) or (3 == 5))\n",
    "(True and True) and (True == False)\n",
    "(not False) or (not True)\n",
    "<br><br>\n",
    "\n",
    "**Ans:** \n",
    "* False for (5 > 4) and (3 == 5)\n",
    "* False for not (5 > 4)\n",
    "* True for (5 > 4) or (3 == 5)\n",
    "* False for not ((5 > 4) or (3 == 5))\n",
    "* False for (True and True) and (True == False)\n",
    "* True for (not False) or (not True)"
   ]
  },
  {
   "cell_type": "code",
   "execution_count": 9,
   "id": "26af1bb0",
   "metadata": {},
   "outputs": [
    {
     "name": "stdout",
     "output_type": "stream",
     "text": [
      "False\n",
      "False\n",
      "True\n",
      "False\n",
      "False\n",
      "True\n"
     ]
    }
   ],
   "source": [
    "print((5 > 4) and (3 == 5))\n",
    "print(not (5 > 4))\n",
    "print((5 > 4) or (3 == 5))\n",
    "print(not ((5 > 4) or (3 == 5)))\n",
    "print((True and True) and (True == False))\n",
    "print((not False) or (not True)) "
   ]
  },
  {
   "cell_type": "markdown",
   "id": "4a1c2591",
   "metadata": {},
   "source": [
    "### 5. What are the six comparison operators?\n",
    "<br><br>\n",
    "\n",
    "**Ans:** Six comparison operators in python are\n",
    "* `==`\n",
    "* `>`\n",
    "* `<`\n",
    "* `!=`\n",
    "* `>=`\n",
    "* `<=`"
   ]
  },
  {
   "cell_type": "markdown",
   "id": "e05626e3",
   "metadata": {},
   "source": [
    "### 6. How do you tell the difference between the equal to and assignment operators?Describe a condition and when you would use one.\n",
    "<br><br>\n",
    "\n",
    "**Ans:**  equal to operator is `==` and used for comparing 2 values where as assignment operators is `=`and used to store values in variable"
   ]
  },
  {
   "cell_type": "code",
   "execution_count": 11,
   "id": "1cd42056",
   "metadata": {},
   "outputs": [
    {
     "name": "stdout",
     "output_type": "stream",
     "text": [
      "True\n"
     ]
    }
   ],
   "source": [
    "a=3 # Assigning operator that stores 3 value in a variable a\n",
    "print(a==3) #comparing values of a varible value and 3"
   ]
  },
  {
   "cell_type": "markdown",
   "id": "f99a65a0",
   "metadata": {},
   "source": [
    "### 7. Identify the three blocks in this code:\n",
    "spam = 0\n",
    "if spam == 10:\n",
    "print('eggs')\n",
    "if spam > 5:\n",
    "print('bacon')\n",
    "else:\n",
    "print('ham')\n",
    "print('spam')\n",
    "print('spam')\n",
    "<br><br>\n",
    "\n",
    "**Ans:** "
   ]
  },
  {
   "cell_type": "code",
   "execution_count": 12,
   "id": "a5cc240a",
   "metadata": {},
   "outputs": [
    {
     "name": "stdout",
     "output_type": "stream",
     "text": [
      "ham\n",
      "spam\n",
      "spam\n"
     ]
    }
   ],
   "source": [
    "spam = 0\n",
    "if spam == 10:\n",
    "    print('eggs') # Block 1\n",
    "if spam > 5:\n",
    "    print('bacon') # Block 2\n",
    "else:\n",
    "    print('ham')  # Block 3\n",
    "    print('spam')\n",
    "    print('spam')"
   ]
  },
  {
   "cell_type": "markdown",
   "id": "63d6cb84",
   "metadata": {},
   "source": [
    "### 8. Write code that prints Hello if 1 is stored in spam, prints Howdy if 2 is stored in spam, and prints Greetings! if anything else is stored in spam.\n",
    "\n",
    "<br><br>\n",
    "\n",
    "**Ans:** "
   ]
  },
  {
   "cell_type": "code",
   "execution_count": 14,
   "id": "19b36c04",
   "metadata": {},
   "outputs": [
    {
     "name": "stdout",
     "output_type": "stream",
     "text": [
      "Hello\n"
     ]
    }
   ],
   "source": [
    "spam = 1\n",
    "if spam == 1:\n",
    "    print('Hello')\n",
    "elif spam == 2:\n",
    "    print('Howdy')\n",
    "else:\n",
    "    print('Greetings!')"
   ]
  },
  {
   "cell_type": "markdown",
   "id": "79ba31a7",
   "metadata": {},
   "source": [
    "\n",
    "### 9.If your programme is stuck in an endless loop, what keys you’ll press?\n",
    "<br><br>\n",
    "\n",
    "**Ans:** We can use Ctrl+c to stop a program "
   ]
  },
  {
   "cell_type": "markdown",
   "id": "f67908a9",
   "metadata": {},
   "source": [
    "### 10. How can you tell the difference between break and continue?\n",
    "<br><br>\n",
    "\n",
    "**Ans:** The break statement will move the execution outside the loop if break condtion is satisfied. Whereas the continue statement will move the execution to the start of the loop to get the next iterated value."
   ]
  },
  {
   "cell_type": "markdown",
   "id": "d6ad769e",
   "metadata": {},
   "source": [
    "### 11. In a for loop, what is the difference between range(10), range(0, 10), and range(0, 10, 1)?\n",
    "<br><br>\n",
    "\n",
    "**Ans:** With respect to the output all 3 function calls are same, but when invoking the function, difference is listed below:<br>\n",
    "1. The _**range(10)**_ call range from 0 to 9 (but not include 10) takes default value for start and step parameter\n",
    "2. The _**range (0,10)**_ explicitly tells the loop to start at 0. takes default value for step parameter\n",
    "3. The _**range(0,10,1)**_ explicitly tells the loop to increase the variable by 1 on each iteration "
   ]
  },
  {
   "cell_type": "code",
   "execution_count": 15,
   "id": "676bd123",
   "metadata": {},
   "outputs": [
    {
     "name": "stdout",
     "output_type": "stream",
     "text": [
      "[0, 1, 2, 3, 4, 5, 6, 7, 8, 9]\n",
      "[0, 1, 2, 3, 4, 5, 6, 7, 8, 9]\n",
      "[0, 1, 2, 3, 4, 5, 6, 7, 8, 9]\n"
     ]
    }
   ],
   "source": [
    "print(list( range(10)))\n",
    "print(list(range(0, 10)))\n",
    "print(list(range(0, 10, 1)))"
   ]
  },
  {
   "cell_type": "markdown",
   "id": "4b6f80d9",
   "metadata": {},
   "source": [
    "### 12. Write a short program that prints the numbers 1 to 10 using a for loop. Then write an equivalent program that prints the numbers 1 to 10 using a while loop.\n",
    "<br><br>\n",
    "\n",
    "**Ans:** "
   ]
  },
  {
   "cell_type": "code",
   "execution_count": 19,
   "id": "76b5d08f",
   "metadata": {},
   "outputs": [
    {
     "name": "stdout",
     "output_type": "stream",
     "text": [
      "1\n",
      "2\n",
      "3\n",
      "4\n",
      "5\n",
      "6\n",
      "7\n",
      "8\n",
      "9\n",
      "10\n"
     ]
    }
   ],
   "source": [
    "for i in range(1,11):\n",
    "    print(i)"
   ]
  },
  {
   "cell_type": "code",
   "execution_count": 20,
   "id": "8578585d",
   "metadata": {},
   "outputs": [
    {
     "name": "stdout",
     "output_type": "stream",
     "text": [
      "1\n",
      "2\n",
      "3\n",
      "4\n",
      "5\n",
      "6\n",
      "7\n",
      "8\n",
      "9\n",
      "10\n"
     ]
    }
   ],
   "source": [
    "count= 1\n",
    "while count<11:\n",
    "    print(count)\n",
    "    count+=1"
   ]
  },
  {
   "cell_type": "markdown",
   "id": "ef44e7aa",
   "metadata": {},
   "source": [
    "### 13. If you had a function named bacon() inside a module named spam, how would you call it after importing spam?\n",
    "<br><br>\n",
    "\n",
    "**Ans:** spam.bacon()\n"
   ]
  }
 ],
 "metadata": {
  "kernelspec": {
   "display_name": "Python 3 (ipykernel)",
   "language": "python",
   "name": "python3"
  },
  "language_info": {
   "codemirror_mode": {
    "name": "ipython",
    "version": 3
   },
   "file_extension": ".py",
   "mimetype": "text/x-python",
   "name": "python",
   "nbconvert_exporter": "python",
   "pygments_lexer": "ipython3",
   "version": "3.9.7"
  }
 },
 "nbformat": 4,
 "nbformat_minor": 5
}
