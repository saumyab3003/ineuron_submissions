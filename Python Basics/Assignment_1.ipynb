{
 "cells": [
  {
   "cell_type": "markdown",
   "id": "59ad4ec6",
   "metadata": {},
   "source": [
    "## Assignment 1"
   ]
  },
  {
   "cell_type": "markdown",
   "id": "eecc27d6",
   "metadata": {},
   "source": [
    "### 1. In the below elements which of them are values or an expression? eg:- values can be\n",
    "    integer or string and expressions will be mathematical operators.\n",
    "`*`,`'hello'`, `-87.8`,`-`,`/`,`+`,`6` <br><br>\n",
    "\n",
    "**Ans:** \n",
    "**Operators:** `*`,`-`,`/`,`+`  \n",
    "**Expressions:** `'hello'`, `87.8`, `6`"
   ]
  },
  {
   "cell_type": "markdown",
   "id": "7dfb429d",
   "metadata": {},
   "source": [
    "### 2. What is the difference between string and variable?<br><br>\n",
    "**Ans:**  Variable is used to store the data where as String is a data type in python i.e. collection of character or single character.\n",
    "\n",
    "\n"
   ]
  },
  {
   "cell_type": "markdown",
   "id": "a73954a2",
   "metadata": {},
   "source": [
    "### 3. Describe three different data types.<br><br>\n",
    "**Ans:** \n",
    "**int** - Use for whole numbers <br>\n",
    "**str** - Use for collection of character or single character<br>\n",
    "**bool** - Use for boolean values - True & False<br>\n"
   ]
  },
  {
   "cell_type": "code",
   "execution_count": 3,
   "id": "690628fc",
   "metadata": {},
   "outputs": [
    {
     "name": "stdout",
     "output_type": "stream",
     "text": [
      "123456 <class 'int'>\n",
      "Hello <class 'str'>\n",
      "True <class 'bool'>\n"
     ]
    }
   ],
   "source": [
    "# Example for int data type\n",
    "i1= 123456\n",
    "print(i1, type(i1))\n",
    "\n",
    "# Example for str data type\n",
    "s1= 'Hello'\n",
    "print(s1, type(s1))\n",
    "\n",
    "# Example for bool data type\n",
    "b1= True\n",
    "print(b1, type(b1))"
   ]
  },
  {
   "cell_type": "markdown",
   "id": "b5742838",
   "metadata": {},
   "source": [
    "### 4. What is an expression made up of? What do all expressions do?<br><br>\n",
    "**Ans:** An expression is a combination of operators and operands that is interpreted to produce some other value. Eg: 4+5\n"
   ]
  },
  {
   "cell_type": "markdown",
   "id": "5fdc432f",
   "metadata": {},
   "source": [
    "### 5. This assignment statements, like spam = 10. What is the difference between an expression and a statement?<br><br>\n",
    "**Ans:** An expression is a combination of operators and operands that is interpreted to produce some other value. Eg: 4+5<br> A statement does something, like creating a variable or displaying a value Eg: spam = 10\n",
    "\n"
   ]
  },
  {
   "cell_type": "markdown",
   "id": "57323efb",
   "metadata": {},
   "source": [
    "### 6. After running the following code, what does the variable bacon contain?\n",
    "#### bacon = 22\n",
    "#### bacon + 1<br><br>\n",
    "**Ans:** bacon contains value 22 as the second line is not assigning the bacon + 1 value in bacon variable\n",
    "\n"
   ]
  },
  {
   "cell_type": "code",
   "execution_count": 6,
   "id": "2714ea13",
   "metadata": {},
   "outputs": [
    {
     "name": "stdout",
     "output_type": "stream",
     "text": [
      "22\n"
     ]
    }
   ],
   "source": [
    "bacon=22\n",
    "bacon+1\n",
    "print(bacon)"
   ]
  },
  {
   "cell_type": "code",
   "execution_count": 7,
   "id": "d941082e",
   "metadata": {},
   "outputs": [
    {
     "name": "stdout",
     "output_type": "stream",
     "text": [
      "23\n"
     ]
    }
   ],
   "source": [
    "# if the bacon is assigned bacon+1 \n",
    "bacon=22\n",
    "bacon=bacon+1 \n",
    "print(bacon)"
   ]
  },
  {
   "cell_type": "markdown",
   "id": "2cfe8eb8",
   "metadata": {},
   "source": [
    "### 7. What should the values of the following two terms be?\n",
    "&#39;spam&#39; + &#39;spamspam&#39;<br>\n",
    "&#39;spam&#39; * 3<br><br>\n",
    "**Ans:**  \n",
    "Output of both the strings will be **spamspamspam**\n"
   ]
  },
  {
   "cell_type": "code",
   "execution_count": 8,
   "id": "80dd473c",
   "metadata": {},
   "outputs": [
    {
     "name": "stdout",
     "output_type": "stream",
     "text": [
      "spamspamspam\n",
      "spamspamspam\n"
     ]
    }
   ],
   "source": [
    "print('spam'+'spamspam') # string concatenation\n",
    "print('spam'*3) # string multiplication"
   ]
  },
  {
   "cell_type": "markdown",
   "id": "b923abbf",
   "metadata": {},
   "source": [
    "### 8. Why is eggs a valid variable name while 100 is invalid?<br><br>\n",
    "**Ans:** As per python,Variable names cannot begin with a number. The python rules for naming a variable are :- \n",
    "1. Variable name must start with a letter or the underscore character.\n",
    "2. Variable name cannot start with a number.\n",
    "3. Variable name can only contain alpha-numeric characters and underscores (A-z, 0-9, & _ ).\n",
    "4. Variable names are case-sensitive (name, `ABC` and `abc` are three different variables).\n",
    "5. The reserved words(keywords) cannot be used naming the variable.\n"
   ]
  },
  {
   "cell_type": "markdown",
   "id": "b2f6ca63",
   "metadata": {},
   "source": [
    "9. What three functions can be used to get the integer, floating-point number, or string version of a value?<br><br>\n",
    "**Ans:** int(),float(),and str() functions will be used for type conversion.\n"
   ]
  },
  {
   "cell_type": "code",
   "execution_count": 4,
   "id": "b1474cd0",
   "metadata": {},
   "outputs": [
    {
     "name": "stdout",
     "output_type": "stream",
     "text": [
      "int(1.0) ->  1\n",
      "float(1) ->  1.0\n",
      "str(1) ->  1\n"
     ]
    }
   ],
   "source": [
    "# Examples:\n",
    "print('int(1.0) -> ',int(1.0))\n",
    "print('float(1) -> ',float(1))\n",
    "print('str(1) -> ',str(1)) "
   ]
  },
  {
   "cell_type": "markdown",
   "id": "e966ab23",
   "metadata": {},
   "source": [
    "10. Why does this expression cause an error? How can you fix it?\n",
    "&#39;I have eaten &#39; + 99 + &#39; burritos.&#39;<br><br>\n",
    "**Ans:** Error is because 99 is not a string. 99 must be typecasted to a string to fix this error. the correct way is:  \n",
    "**Input:** `'I have eaten ' + str(99) + 'burritos.'`  \n",
    "**Output:** `'I have eaten 99 burritos.'`"
   ]
  },
  {
   "cell_type": "code",
   "execution_count": 5,
   "id": "210629ae",
   "metadata": {},
   "outputs": [
    {
     "name": "stdout",
     "output_type": "stream",
     "text": [
      "I have eaten 99 burritos\n"
     ]
    }
   ],
   "source": [
    "print('I have eaten '+str(99)+' burritos')"
   ]
  }
 ],
 "metadata": {
  "kernelspec": {
   "display_name": "Python 3 (ipykernel)",
   "language": "python",
   "name": "python3"
  },
  "language_info": {
   "codemirror_mode": {
    "name": "ipython",
    "version": 3
   },
   "file_extension": ".py",
   "mimetype": "text/x-python",
   "name": "python",
   "nbconvert_exporter": "python",
   "pygments_lexer": "ipython3",
   "version": "3.9.7"
  }
 },
 "nbformat": 4,
 "nbformat_minor": 5
}
